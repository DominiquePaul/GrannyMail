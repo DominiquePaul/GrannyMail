{
 "cells": [
  {
   "cell_type": "code",
   "execution_count": 4,
   "metadata": {},
   "outputs": [],
   "source": [
    "from dotenv import load_dotenv\n",
    "load_dotenv(\".env\")\n",
    "from whatsapp.utils import _post_httpx_request\n"
   ]
  },
  {
   "cell_type": "code",
   "execution_count": 6,
   "metadata": {},
   "outputs": [
    {
     "name": "stdout",
     "output_type": "stream",
     "text": [
      "EAAt5yumjItYBO3YuxSRvEg204scn34QA2binyDwibREgRP6ZASxZCwE1argSOsc4ZA2VyT69a7rA8Cz7zMSqQEqf0nZCZAKxXzDGlkfCV1jFYIfFwM4Y9CVCFPqL9WIkSblJYZBzVdnyNIZAsbjOdlP8C4yzb2bqZACMafpODT22s9vWqfjPeP8v3yhpyxcZC4KS2\n"
     ]
    },
    {
     "data": {
      "text/plain": [
       "{'messaging_product': 'whatsapp',\n",
       " 'contacts': [{'input': '4915159926162', 'wa_id': '4915159926162'}],\n",
       " 'messages': [{'id': 'wamid.HBgNNDkxNTE1OTkyNjE2MhUCABEYEjI4NUNGNjVCQzk5Rjc1RjJGMwA='}]}"
      ]
     },
     "execution_count": 6,
     "metadata": {},
     "output_type": "execute_result"
    }
   ],
   "source": [
    "data = {\n",
    "    \"messaging_product\": \"whatsapp\",\n",
    "    \"recipient_type\": \"individual\",\n",
    "    \"to\": \"4915159926162\",\n",
    "    \"type\": \"text\",\n",
    "    \"text\": {\"preview_url\": False, \"body\": \"hi\"},\n",
    "}\n",
    "url =f\"https://graph.facebook.com/v18.0/{196914110180497}/messages\"\n",
    "await _post_httpx_request(url, data=data)\n"
   ]
  },
  {
   "cell_type": "code",
   "execution_count": null,
   "metadata": {},
   "outputs": [],
   "source": []
  }
 ],
 "metadata": {
  "kernelspec": {
   "display_name": "venv",
   "language": "python",
   "name": "python3"
  },
  "language_info": {
   "codemirror_mode": {
    "name": "ipython",
    "version": 3
   },
   "file_extension": ".py",
   "mimetype": "text/x-python",
   "name": "python",
   "nbconvert_exporter": "python",
   "pygments_lexer": "ipython3",
   "version": "3.11.7"
  }
 },
 "nbformat": 4,
 "nbformat_minor": 2
}
